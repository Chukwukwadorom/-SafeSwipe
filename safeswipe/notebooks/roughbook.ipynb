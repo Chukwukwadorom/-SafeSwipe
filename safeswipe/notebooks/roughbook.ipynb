{
 "cells": [
  {
   "cell_type": "code",
   "execution_count": 12,
   "metadata": {},
   "outputs": [],
   "source": [
    "import pandas as pd"
   ]
  },
  {
   "cell_type": "code",
   "execution_count": 13,
   "metadata": {},
   "outputs": [],
   "source": [
    "url = \"https://repo.hops.works/master/hopsworks-tutorials/data/card_fraud_data\""
   ]
  },
  {
   "cell_type": "code",
   "execution_count": 14,
   "metadata": {},
   "outputs": [
    {
     "data": {
      "text/html": [
       "<div>\n",
       "<style scoped>\n",
       "    .dataframe tbody tr th:only-of-type {\n",
       "        vertical-align: middle;\n",
       "    }\n",
       "\n",
       "    .dataframe tbody tr th {\n",
       "        vertical-align: top;\n",
       "    }\n",
       "\n",
       "    .dataframe thead th {\n",
       "        text-align: right;\n",
       "    }\n",
       "</style>\n",
       "<table border=\"1\" class=\"dataframe\">\n",
       "  <thead>\n",
       "    <tr style=\"text-align: right;\">\n",
       "      <th></th>\n",
       "      <th>cc_num</th>\n",
       "      <th>provider</th>\n",
       "      <th>expires</th>\n",
       "    </tr>\n",
       "  </thead>\n",
       "  <tbody>\n",
       "    <tr>\n",
       "      <th>0</th>\n",
       "      <td>4796807885357879</td>\n",
       "      <td>visa</td>\n",
       "      <td>05/23</td>\n",
       "    </tr>\n",
       "    <tr>\n",
       "      <th>1</th>\n",
       "      <td>4529266636192966</td>\n",
       "      <td>visa</td>\n",
       "      <td>03/22</td>\n",
       "    </tr>\n",
       "    <tr>\n",
       "      <th>2</th>\n",
       "      <td>4922690008243953</td>\n",
       "      <td>visa</td>\n",
       "      <td>02/27</td>\n",
       "    </tr>\n",
       "    <tr>\n",
       "      <th>3</th>\n",
       "      <td>4897369589533543</td>\n",
       "      <td>visa</td>\n",
       "      <td>04/22</td>\n",
       "    </tr>\n",
       "    <tr>\n",
       "      <th>4</th>\n",
       "      <td>4848518335893425</td>\n",
       "      <td>visa</td>\n",
       "      <td>10/26</td>\n",
       "    </tr>\n",
       "  </tbody>\n",
       "</table>\n",
       "</div>"
      ],
      "text/plain": [
       "             cc_num provider expires\n",
       "0  4796807885357879     visa   05/23\n",
       "1  4529266636192966     visa   03/22\n",
       "2  4922690008243953     visa   02/27\n",
       "3  4897369589533543     visa   04/22\n",
       "4  4848518335893425     visa   10/26"
      ]
     },
     "execution_count": 14,
     "metadata": {},
     "output_type": "execute_result"
    }
   ],
   "source": [
    "credit_cards_df = pd.read_parquet(url + \"/credit_cards.parquet\")\n",
    "credit_cards_df.head(5)"
   ]
  },
  {
   "cell_type": "code",
   "execution_count": 34,
   "metadata": {},
   "outputs": [
    {
     "data": {
      "text/html": [
       "<div>\n",
       "<style scoped>\n",
       "    .dataframe tbody tr th:only-of-type {\n",
       "        vertical-align: middle;\n",
       "    }\n",
       "\n",
       "    .dataframe tbody tr th {\n",
       "        vertical-align: top;\n",
       "    }\n",
       "\n",
       "    .dataframe thead th {\n",
       "        text-align: right;\n",
       "    }\n",
       "</style>\n",
       "<table border=\"1\" class=\"dataframe\">\n",
       "  <thead>\n",
       "    <tr style=\"text-align: right;\">\n",
       "      <th></th>\n",
       "      <th>cc_num</th>\n",
       "      <th>provider</th>\n",
       "      <th>expires</th>\n",
       "    </tr>\n",
       "  </thead>\n",
       "  <tbody>\n",
       "    <tr>\n",
       "      <th>0</th>\n",
       "      <td>4796807885357879</td>\n",
       "      <td>visa</td>\n",
       "      <td>05/23</td>\n",
       "    </tr>\n",
       "    <tr>\n",
       "      <th>1</th>\n",
       "      <td>4529266636192966</td>\n",
       "      <td>visa</td>\n",
       "      <td>03/22</td>\n",
       "    </tr>\n",
       "    <tr>\n",
       "      <th>2</th>\n",
       "      <td>4922690008243953</td>\n",
       "      <td>visa</td>\n",
       "      <td>02/27</td>\n",
       "    </tr>\n",
       "    <tr>\n",
       "      <th>3</th>\n",
       "      <td>4897369589533543</td>\n",
       "      <td>visa</td>\n",
       "      <td>04/22</td>\n",
       "    </tr>\n",
       "    <tr>\n",
       "      <th>4</th>\n",
       "      <td>4848518335893425</td>\n",
       "      <td>visa</td>\n",
       "      <td>10/26</td>\n",
       "    </tr>\n",
       "  </tbody>\n",
       "</table>\n",
       "</div>"
      ],
      "text/plain": [
       "             cc_num provider expires\n",
       "0  4796807885357879     visa   05/23\n",
       "1  4529266636192966     visa   03/22\n",
       "2  4922690008243953     visa   02/27\n",
       "3  4897369589533543     visa   04/22\n",
       "4  4848518335893425     visa   10/26"
      ]
     },
     "execution_count": 34,
     "metadata": {},
     "output_type": "execute_result"
    }
   ],
   "source": [
    "credit_cards_df = credit_cards_df[~credit_cards_df.duplicated()]\n",
    "credit_cards_df.head(5)"
   ]
  },
  {
   "cell_type": "code",
   "execution_count": 37,
   "metadata": {},
   "outputs": [
    {
     "data": {
      "text/html": [
       "<div>\n",
       "<style scoped>\n",
       "    .dataframe tbody tr th:only-of-type {\n",
       "        vertical-align: middle;\n",
       "    }\n",
       "\n",
       "    .dataframe tbody tr th {\n",
       "        vertical-align: top;\n",
       "    }\n",
       "\n",
       "    .dataframe thead th {\n",
       "        text-align: right;\n",
       "    }\n",
       "</style>\n",
       "<table border=\"1\" class=\"dataframe\">\n",
       "  <thead>\n",
       "    <tr style=\"text-align: right;\">\n",
       "      <th></th>\n",
       "      <th>cc_num</th>\n",
       "      <th>provider</th>\n",
       "      <th>expires</th>\n",
       "    </tr>\n",
       "  </thead>\n",
       "  <tbody>\n",
       "    <tr>\n",
       "      <th>0</th>\n",
       "      <td>4796807885357879</td>\n",
       "      <td>visa</td>\n",
       "      <td>05/23</td>\n",
       "    </tr>\n",
       "    <tr>\n",
       "      <th>1</th>\n",
       "      <td>4529266636192966</td>\n",
       "      <td>visa</td>\n",
       "      <td>03/22</td>\n",
       "    </tr>\n",
       "    <tr>\n",
       "      <th>2</th>\n",
       "      <td>4922690008243953</td>\n",
       "      <td>visa</td>\n",
       "      <td>02/27</td>\n",
       "    </tr>\n",
       "    <tr>\n",
       "      <th>3</th>\n",
       "      <td>4897369589533543</td>\n",
       "      <td>visa</td>\n",
       "      <td>04/22</td>\n",
       "    </tr>\n",
       "    <tr>\n",
       "      <th>4</th>\n",
       "      <td>4848518335893425</td>\n",
       "      <td>visa</td>\n",
       "      <td>10/26</td>\n",
       "    </tr>\n",
       "  </tbody>\n",
       "</table>\n",
       "</div>"
      ],
      "text/plain": [
       "             cc_num provider expires\n",
       "0  4796807885357879     visa   05/23\n",
       "1  4529266636192966     visa   03/22\n",
       "2  4922690008243953     visa   02/27\n",
       "3  4897369589533543     visa   04/22\n",
       "4  4848518335893425     visa   10/26"
      ]
     },
     "execution_count": 37,
     "metadata": {},
     "output_type": "execute_result"
    }
   ],
   "source": [
    "credit_cards_df = credit_cards_df.dropna()\n",
    "credit_cards_df.head(5)"
   ]
  },
  {
   "cell_type": "code",
   "execution_count": 15,
   "metadata": {},
   "outputs": [
    {
     "name": "stdout",
     "output_type": "stream",
     "text": [
      "<class 'pandas.core.frame.DataFrame'>\n",
      "RangeIndex: 2000 entries, 0 to 1999\n",
      "Data columns (total 3 columns):\n",
      " #   Column    Non-Null Count  Dtype \n",
      "---  ------    --------------  ----- \n",
      " 0   cc_num    2000 non-null   int64 \n",
      " 1   provider  2000 non-null   object\n",
      " 2   expires   2000 non-null   object\n",
      "dtypes: int64(1), object(2)\n",
      "memory usage: 47.0+ KB\n",
      "None\n"
     ]
    },
    {
     "data": {
      "text/html": [
       "<div>\n",
       "<style scoped>\n",
       "    .dataframe tbody tr th:only-of-type {\n",
       "        vertical-align: middle;\n",
       "    }\n",
       "\n",
       "    .dataframe tbody tr th {\n",
       "        vertical-align: top;\n",
       "    }\n",
       "\n",
       "    .dataframe thead th {\n",
       "        text-align: right;\n",
       "    }\n",
       "</style>\n",
       "<table border=\"1\" class=\"dataframe\">\n",
       "  <thead>\n",
       "    <tr style=\"text-align: right;\">\n",
       "      <th></th>\n",
       "      <th>cc_num</th>\n",
       "    </tr>\n",
       "  </thead>\n",
       "  <tbody>\n",
       "    <tr>\n",
       "      <th>count</th>\n",
       "      <td>2.000000e+03</td>\n",
       "    </tr>\n",
       "    <tr>\n",
       "      <th>mean</th>\n",
       "      <td>4.496582e+15</td>\n",
       "    </tr>\n",
       "    <tr>\n",
       "      <th>std</th>\n",
       "      <td>2.900255e+14</td>\n",
       "    </tr>\n",
       "    <tr>\n",
       "      <th>min</th>\n",
       "      <td>4.000323e+15</td>\n",
       "    </tr>\n",
       "    <tr>\n",
       "      <th>25%</th>\n",
       "      <td>4.242449e+15</td>\n",
       "    </tr>\n",
       "    <tr>\n",
       "      <th>50%</th>\n",
       "      <td>4.501556e+15</td>\n",
       "    </tr>\n",
       "    <tr>\n",
       "      <th>75%</th>\n",
       "      <td>4.746010e+15</td>\n",
       "    </tr>\n",
       "    <tr>\n",
       "      <th>max</th>\n",
       "      <td>4.999764e+15</td>\n",
       "    </tr>\n",
       "  </tbody>\n",
       "</table>\n",
       "</div>"
      ],
      "text/plain": [
       "             cc_num\n",
       "count  2.000000e+03\n",
       "mean   4.496582e+15\n",
       "std    2.900255e+14\n",
       "min    4.000323e+15\n",
       "25%    4.242449e+15\n",
       "50%    4.501556e+15\n",
       "75%    4.746010e+15\n",
       "max    4.999764e+15"
      ]
     },
     "execution_count": 15,
     "metadata": {},
     "output_type": "execute_result"
    }
   ],
   "source": [
    "print(credit_cards_df.info())\n",
    "credit_cards_df.describe()"
   ]
  },
  {
   "cell_type": "code",
   "execution_count": 16,
   "metadata": {},
   "outputs": [
    {
     "data": {
      "text/plain": [
       "cc_num      0\n",
       "provider    0\n",
       "expires     0\n",
       "dtype: int64"
      ]
     },
     "execution_count": 16,
     "metadata": {},
     "output_type": "execute_result"
    }
   ],
   "source": [
    "credit_cards_df.isna().sum()"
   ]
  },
  {
   "cell_type": "code",
   "execution_count": 17,
   "metadata": {},
   "outputs": [
    {
     "data": {
      "text/plain": [
       "0"
      ]
     },
     "execution_count": 17,
     "metadata": {},
     "output_type": "execute_result"
    }
   ],
   "source": [
    "len(credit_cards_df[credit_cards_df.duplicated()])"
   ]
  },
  {
   "cell_type": "code",
   "execution_count": 18,
   "metadata": {},
   "outputs": [
    {
     "data": {
      "text/html": [
       "<div>\n",
       "<style scoped>\n",
       "    .dataframe tbody tr th:only-of-type {\n",
       "        vertical-align: middle;\n",
       "    }\n",
       "\n",
       "    .dataframe tbody tr th {\n",
       "        vertical-align: top;\n",
       "    }\n",
       "\n",
       "    .dataframe thead th {\n",
       "        text-align: right;\n",
       "    }\n",
       "</style>\n",
       "<table border=\"1\" class=\"dataframe\">\n",
       "  <thead>\n",
       "    <tr style=\"text-align: right;\">\n",
       "      <th></th>\n",
       "      <th>tid</th>\n",
       "      <th>datetime</th>\n",
       "      <th>cc_num</th>\n",
       "      <th>category</th>\n",
       "      <th>amount</th>\n",
       "      <th>latitude</th>\n",
       "      <th>longitude</th>\n",
       "      <th>city</th>\n",
       "      <th>country</th>\n",
       "      <th>fraud_label</th>\n",
       "    </tr>\n",
       "  </thead>\n",
       "  <tbody>\n",
       "    <tr>\n",
       "      <th>0</th>\n",
       "      <td>11df919988c134d97bbff2678eb68e22</td>\n",
       "      <td>2022-01-01 00:00:24</td>\n",
       "      <td>4473593503484549</td>\n",
       "      <td>Health/Beauty</td>\n",
       "      <td>62.95</td>\n",
       "      <td>42.30865</td>\n",
       "      <td>-83.48216</td>\n",
       "      <td>Canton</td>\n",
       "      <td>US</td>\n",
       "      <td>0</td>\n",
       "    </tr>\n",
       "    <tr>\n",
       "      <th>1</th>\n",
       "      <td>dd0b2d6d4266ccd3bf05bc2ea91cf180</td>\n",
       "      <td>2022-01-01 00:00:56</td>\n",
       "      <td>4272465718946864</td>\n",
       "      <td>Grocery</td>\n",
       "      <td>85.45</td>\n",
       "      <td>33.52253</td>\n",
       "      <td>-117.70755</td>\n",
       "      <td>Laguna Niguel</td>\n",
       "      <td>US</td>\n",
       "      <td>0</td>\n",
       "    </tr>\n",
       "    <tr>\n",
       "      <th>2</th>\n",
       "      <td>e627f5d9a9739833bd52d2da51761fc3</td>\n",
       "      <td>2022-01-01 00:02:32</td>\n",
       "      <td>4104216579248948</td>\n",
       "      <td>Domestic Transport</td>\n",
       "      <td>21.63</td>\n",
       "      <td>37.60876</td>\n",
       "      <td>-77.37331</td>\n",
       "      <td>Mechanicsville</td>\n",
       "      <td>US</td>\n",
       "      <td>0</td>\n",
       "    </tr>\n",
       "  </tbody>\n",
       "</table>\n",
       "</div>"
      ],
      "text/plain": [
       "                                tid            datetime            cc_num  \\\n",
       "0  11df919988c134d97bbff2678eb68e22 2022-01-01 00:00:24  4473593503484549   \n",
       "1  dd0b2d6d4266ccd3bf05bc2ea91cf180 2022-01-01 00:00:56  4272465718946864   \n",
       "2  e627f5d9a9739833bd52d2da51761fc3 2022-01-01 00:02:32  4104216579248948   \n",
       "\n",
       "             category  amount  latitude  longitude            city country  \\\n",
       "0       Health/Beauty   62.95  42.30865  -83.48216          Canton      US   \n",
       "1             Grocery   85.45  33.52253 -117.70755   Laguna Niguel      US   \n",
       "2  Domestic Transport   21.63  37.60876  -77.37331  Mechanicsville      US   \n",
       "\n",
       "   fraud_label  \n",
       "0            0  \n",
       "1            0  \n",
       "2            0  "
      ]
     },
     "execution_count": 18,
     "metadata": {},
     "output_type": "execute_result"
    }
   ],
   "source": [
    "trans_df = pd.read_parquet(url + \"/transactions.parquet\")\n",
    "trans_df.head(3)"
   ]
  },
  {
   "cell_type": "code",
   "execution_count": 19,
   "metadata": {},
   "outputs": [
    {
     "data": {
      "text/plain": [
       "tid            0\n",
       "datetime       0\n",
       "cc_num         0\n",
       "category       0\n",
       "amount         0\n",
       "latitude       0\n",
       "longitude      0\n",
       "city           0\n",
       "country        0\n",
       "fraud_label    0\n",
       "dtype: int64"
      ]
     },
     "execution_count": 19,
     "metadata": {},
     "output_type": "execute_result"
    }
   ],
   "source": [
    "trans_df.isna().sum()"
   ]
  },
  {
   "cell_type": "code",
   "execution_count": 20,
   "metadata": {},
   "outputs": [
    {
     "data": {
      "text/plain": [
       "0"
      ]
     },
     "execution_count": 20,
     "metadata": {},
     "output_type": "execute_result"
    }
   ],
   "source": [
    "len(trans_df[trans_df.duplicated()])"
   ]
  },
  {
   "cell_type": "code",
   "execution_count": 21,
   "metadata": {},
   "outputs": [
    {
     "data": {
      "text/html": [
       "<div>\n",
       "<style scoped>\n",
       "    .dataframe tbody tr th:only-of-type {\n",
       "        vertical-align: middle;\n",
       "    }\n",
       "\n",
       "    .dataframe tbody tr th {\n",
       "        vertical-align: top;\n",
       "    }\n",
       "\n",
       "    .dataframe thead th {\n",
       "        text-align: right;\n",
       "    }\n",
       "</style>\n",
       "<table border=\"1\" class=\"dataframe\">\n",
       "  <thead>\n",
       "    <tr style=\"text-align: right;\">\n",
       "      <th></th>\n",
       "      <th>name</th>\n",
       "      <th>sex</th>\n",
       "      <th>mail</th>\n",
       "      <th>birthdate</th>\n",
       "      <th>City</th>\n",
       "      <th>Country</th>\n",
       "      <th>cc_num</th>\n",
       "    </tr>\n",
       "  </thead>\n",
       "  <tbody>\n",
       "    <tr>\n",
       "      <th>0</th>\n",
       "      <td>Catherine Zimmerman</td>\n",
       "      <td>F</td>\n",
       "      <td>valenciajason@hotmail.com</td>\n",
       "      <td>1988-09-20</td>\n",
       "      <td>Bryn Mawr-Skyway</td>\n",
       "      <td>US</td>\n",
       "      <td>4796807885357879</td>\n",
       "    </tr>\n",
       "    <tr>\n",
       "      <th>1</th>\n",
       "      <td>Michael Williams</td>\n",
       "      <td>M</td>\n",
       "      <td>brettkennedy@yahoo.com</td>\n",
       "      <td>1977-03-01</td>\n",
       "      <td>Gates-North Gates</td>\n",
       "      <td>US</td>\n",
       "      <td>4529266636192966</td>\n",
       "    </tr>\n",
       "    <tr>\n",
       "      <th>2</th>\n",
       "      <td>Jessica Krueger</td>\n",
       "      <td>F</td>\n",
       "      <td>marthacruz@hotmail.com</td>\n",
       "      <td>1947-09-10</td>\n",
       "      <td>Greenfield</td>\n",
       "      <td>US</td>\n",
       "      <td>4922690008243953</td>\n",
       "    </tr>\n",
       "    <tr>\n",
       "      <th>3</th>\n",
       "      <td>Ruth Harris</td>\n",
       "      <td>F</td>\n",
       "      <td>james11@yahoo.com</td>\n",
       "      <td>1983-12-27</td>\n",
       "      <td>New City</td>\n",
       "      <td>US</td>\n",
       "      <td>4897369589533543</td>\n",
       "    </tr>\n",
       "    <tr>\n",
       "      <th>4</th>\n",
       "      <td>Paul Ashley</td>\n",
       "      <td>M</td>\n",
       "      <td>matthew97@hotmail.com</td>\n",
       "      <td>1974-11-10</td>\n",
       "      <td>Peabody</td>\n",
       "      <td>US</td>\n",
       "      <td>4848518335893425</td>\n",
       "    </tr>\n",
       "  </tbody>\n",
       "</table>\n",
       "</div>"
      ],
      "text/plain": [
       "                  name sex                       mail  birthdate  \\\n",
       "0  Catherine Zimmerman   F  valenciajason@hotmail.com 1988-09-20   \n",
       "1     Michael Williams   M     brettkennedy@yahoo.com 1977-03-01   \n",
       "2      Jessica Krueger   F     marthacruz@hotmail.com 1947-09-10   \n",
       "3          Ruth Harris   F          james11@yahoo.com 1983-12-27   \n",
       "4          Paul Ashley   M      matthew97@hotmail.com 1974-11-10   \n",
       "\n",
       "                City Country            cc_num  \n",
       "0   Bryn Mawr-Skyway      US  4796807885357879  \n",
       "1  Gates-North Gates      US  4529266636192966  \n",
       "2         Greenfield      US  4922690008243953  \n",
       "3           New City      US  4897369589533543  \n",
       "4            Peabody      US  4848518335893425  "
      ]
     },
     "execution_count": 21,
     "metadata": {},
     "output_type": "execute_result"
    }
   ],
   "source": [
    "profiles_df = pd.read_parquet(url + \"/profiles.parquet\")\n",
    "profiles_df.head(5)"
   ]
  },
  {
   "cell_type": "markdown",
   "metadata": {},
   "source": []
  },
  {
   "cell_type": "code",
   "execution_count": 22,
   "metadata": {},
   "outputs": [
    {
     "data": {
      "text/plain": [
       "name         0\n",
       "sex          0\n",
       "mail         0\n",
       "birthdate    0\n",
       "City         0\n",
       "Country      0\n",
       "cc_num       0\n",
       "dtype: int64"
      ]
     },
     "execution_count": 22,
     "metadata": {},
     "output_type": "execute_result"
    }
   ],
   "source": [
    "profiles_df.isna().sum()"
   ]
  },
  {
   "cell_type": "markdown",
   "metadata": {},
   "source": []
  },
  {
   "cell_type": "code",
   "execution_count": 23,
   "metadata": {},
   "outputs": [
    {
     "data": {
      "text/plain": [
       "0"
      ]
     },
     "execution_count": 23,
     "metadata": {},
     "output_type": "execute_result"
    }
   ],
   "source": [
    "len(profiles_df[profiles_df.duplicated()])"
   ]
  },
  {
   "cell_type": "markdown",
   "metadata": {},
   "source": []
  },
  {
   "cell_type": "code",
   "execution_count": 24,
   "metadata": {},
   "outputs": [
    {
     "data": {
      "text/plain": [
       "cc_num\n",
       "4000323325541926     50.551364\n",
       "4001468975474818    412.270000\n",
       "4001760125154740    417.244810\n",
       "4002330522123596     38.243182\n",
       "4002894877268355    183.287532\n",
       "Name: amount, dtype: float64"
      ]
     },
     "execution_count": 24,
     "metadata": {},
     "output_type": "execute_result"
    }
   ],
   "source": [
    "trans_df.groupby(\"cc_num\")[\"amount\"].mean().head(5)"
   ]
  },
  {
   "cell_type": "code",
   "execution_count": 25,
   "metadata": {},
   "outputs": [
    {
     "data": {
      "text/html": [
       "<div>\n",
       "<style scoped>\n",
       "    .dataframe tbody tr th:only-of-type {\n",
       "        vertical-align: middle;\n",
       "    }\n",
       "\n",
       "    .dataframe tbody tr th {\n",
       "        vertical-align: top;\n",
       "    }\n",
       "\n",
       "    .dataframe thead tr th {\n",
       "        text-align: left;\n",
       "    }\n",
       "\n",
       "    .dataframe thead tr:last-of-type th {\n",
       "        text-align: right;\n",
       "    }\n",
       "</style>\n",
       "<table border=\"1\" class=\"dataframe\">\n",
       "  <thead>\n",
       "    <tr>\n",
       "      <th></th>\n",
       "      <th colspan=\"2\" halign=\"left\">amount</th>\n",
       "    </tr>\n",
       "    <tr>\n",
       "      <th></th>\n",
       "      <th>mean</th>\n",
       "      <th>sum</th>\n",
       "    </tr>\n",
       "    <tr>\n",
       "      <th>cc_num</th>\n",
       "      <th></th>\n",
       "      <th></th>\n",
       "    </tr>\n",
       "  </thead>\n",
       "  <tbody>\n",
       "    <tr>\n",
       "      <th>4000323325541926</th>\n",
       "      <td>50.551364</td>\n",
       "      <td>1112.13</td>\n",
       "    </tr>\n",
       "    <tr>\n",
       "      <th>4001468975474818</th>\n",
       "      <td>412.270000</td>\n",
       "      <td>8657.67</td>\n",
       "    </tr>\n",
       "    <tr>\n",
       "      <th>4001760125154740</th>\n",
       "      <td>417.244810</td>\n",
       "      <td>32962.34</td>\n",
       "    </tr>\n",
       "    <tr>\n",
       "      <th>4002330522123596</th>\n",
       "      <td>38.243182</td>\n",
       "      <td>841.35</td>\n",
       "    </tr>\n",
       "    <tr>\n",
       "      <th>4002894877268355</th>\n",
       "      <td>183.287532</td>\n",
       "      <td>14113.14</td>\n",
       "    </tr>\n",
       "    <tr>\n",
       "      <th>...</th>\n",
       "      <td>...</td>\n",
       "      <td>...</td>\n",
       "    </tr>\n",
       "    <tr>\n",
       "      <th>4997648400548833</th>\n",
       "      <td>532.043077</td>\n",
       "      <td>41499.36</td>\n",
       "    </tr>\n",
       "    <tr>\n",
       "      <th>4998520332804015</th>\n",
       "      <td>89.870455</td>\n",
       "      <td>1977.15</td>\n",
       "    </tr>\n",
       "    <tr>\n",
       "      <th>4999613767442424</th>\n",
       "      <td>238.403750</td>\n",
       "      <td>5721.69</td>\n",
       "    </tr>\n",
       "    <tr>\n",
       "      <th>4999661259770133</th>\n",
       "      <td>403.759767</td>\n",
       "      <td>34723.34</td>\n",
       "    </tr>\n",
       "    <tr>\n",
       "      <th>4999763787658689</th>\n",
       "      <td>704.318500</td>\n",
       "      <td>56345.48</td>\n",
       "    </tr>\n",
       "  </tbody>\n",
       "</table>\n",
       "<p>2000 rows × 2 columns</p>\n",
       "</div>"
      ],
      "text/plain": [
       "                      amount          \n",
       "                        mean       sum\n",
       "cc_num                                \n",
       "4000323325541926   50.551364   1112.13\n",
       "4001468975474818  412.270000   8657.67\n",
       "4001760125154740  417.244810  32962.34\n",
       "4002330522123596   38.243182    841.35\n",
       "4002894877268355  183.287532  14113.14\n",
       "...                      ...       ...\n",
       "4997648400548833  532.043077  41499.36\n",
       "4998520332804015   89.870455   1977.15\n",
       "4999613767442424  238.403750   5721.69\n",
       "4999661259770133  403.759767  34723.34\n",
       "4999763787658689  704.318500  56345.48\n",
       "\n",
       "[2000 rows x 2 columns]"
      ]
     },
     "execution_count": 25,
     "metadata": {},
     "output_type": "execute_result"
    }
   ],
   "source": [
    "trans_df.groupby(\"cc_num\").agg({\"amount\":[\"mean\", \"sum\"]})"
   ]
  },
  {
   "cell_type": "code",
   "execution_count": 26,
   "metadata": {},
   "outputs": [
    {
     "data": {
      "text/html": [
       "<div>\n",
       "<style scoped>\n",
       "    .dataframe tbody tr th:only-of-type {\n",
       "        vertical-align: middle;\n",
       "    }\n",
       "\n",
       "    .dataframe tbody tr th {\n",
       "        vertical-align: top;\n",
       "    }\n",
       "\n",
       "    .dataframe thead th {\n",
       "        text-align: right;\n",
       "    }\n",
       "</style>\n",
       "<table border=\"1\" class=\"dataframe\">\n",
       "  <thead>\n",
       "    <tr style=\"text-align: right;\">\n",
       "      <th></th>\n",
       "      <th>tid</th>\n",
       "      <th>datetime</th>\n",
       "      <th>cc_num</th>\n",
       "      <th>category</th>\n",
       "      <th>amount</th>\n",
       "      <th>latitude</th>\n",
       "      <th>longitude</th>\n",
       "      <th>city</th>\n",
       "      <th>country</th>\n",
       "      <th>fraud_label</th>\n",
       "    </tr>\n",
       "  </thead>\n",
       "  <tbody>\n",
       "    <tr>\n",
       "      <th>0</th>\n",
       "      <td>11df919988c134d97bbff2678eb68e22</td>\n",
       "      <td>2022-01-01 00:00:24</td>\n",
       "      <td>4473593503484549</td>\n",
       "      <td>Health/Beauty</td>\n",
       "      <td>62.95</td>\n",
       "      <td>42.30865</td>\n",
       "      <td>-83.48216</td>\n",
       "      <td>Canton</td>\n",
       "      <td>US</td>\n",
       "      <td>0</td>\n",
       "    </tr>\n",
       "    <tr>\n",
       "      <th>1</th>\n",
       "      <td>dd0b2d6d4266ccd3bf05bc2ea91cf180</td>\n",
       "      <td>2022-01-01 00:00:56</td>\n",
       "      <td>4272465718946864</td>\n",
       "      <td>Grocery</td>\n",
       "      <td>85.45</td>\n",
       "      <td>33.52253</td>\n",
       "      <td>-117.70755</td>\n",
       "      <td>Laguna Niguel</td>\n",
       "      <td>US</td>\n",
       "      <td>0</td>\n",
       "    </tr>\n",
       "    <tr>\n",
       "      <th>2</th>\n",
       "      <td>e627f5d9a9739833bd52d2da51761fc3</td>\n",
       "      <td>2022-01-01 00:02:32</td>\n",
       "      <td>4104216579248948</td>\n",
       "      <td>Domestic Transport</td>\n",
       "      <td>21.63</td>\n",
       "      <td>37.60876</td>\n",
       "      <td>-77.37331</td>\n",
       "      <td>Mechanicsville</td>\n",
       "      <td>US</td>\n",
       "      <td>0</td>\n",
       "    </tr>\n",
       "    <tr>\n",
       "      <th>3</th>\n",
       "      <td>6fb3e6beafbb92b8e15827037f603c52</td>\n",
       "      <td>2022-01-01 00:03:24</td>\n",
       "      <td>4814447237003448</td>\n",
       "      <td>Health/Beauty</td>\n",
       "      <td>54.71</td>\n",
       "      <td>43.54072</td>\n",
       "      <td>-116.56346</td>\n",
       "      <td>Nampa</td>\n",
       "      <td>US</td>\n",
       "      <td>0</td>\n",
       "    </tr>\n",
       "    <tr>\n",
       "      <th>4</th>\n",
       "      <td>be0b8acc57bfe126a5a392fd99e6ddd1</td>\n",
       "      <td>2022-01-01 00:03:55</td>\n",
       "      <td>4515188652242507</td>\n",
       "      <td>Grocery</td>\n",
       "      <td>59.22</td>\n",
       "      <td>40.24537</td>\n",
       "      <td>-75.64963</td>\n",
       "      <td>Pottstown</td>\n",
       "      <td>US</td>\n",
       "      <td>0</td>\n",
       "    </tr>\n",
       "  </tbody>\n",
       "</table>\n",
       "</div>"
      ],
      "text/plain": [
       "                                tid            datetime            cc_num  \\\n",
       "0  11df919988c134d97bbff2678eb68e22 2022-01-01 00:00:24  4473593503484549   \n",
       "1  dd0b2d6d4266ccd3bf05bc2ea91cf180 2022-01-01 00:00:56  4272465718946864   \n",
       "2  e627f5d9a9739833bd52d2da51761fc3 2022-01-01 00:02:32  4104216579248948   \n",
       "3  6fb3e6beafbb92b8e15827037f603c52 2022-01-01 00:03:24  4814447237003448   \n",
       "4  be0b8acc57bfe126a5a392fd99e6ddd1 2022-01-01 00:03:55  4515188652242507   \n",
       "\n",
       "             category  amount  latitude  longitude            city country  \\\n",
       "0       Health/Beauty   62.95  42.30865  -83.48216          Canton      US   \n",
       "1             Grocery   85.45  33.52253 -117.70755   Laguna Niguel      US   \n",
       "2  Domestic Transport   21.63  37.60876  -77.37331  Mechanicsville      US   \n",
       "3       Health/Beauty   54.71  43.54072 -116.56346           Nampa      US   \n",
       "4             Grocery   59.22  40.24537  -75.64963       Pottstown      US   \n",
       "\n",
       "   fraud_label  \n",
       "0            0  \n",
       "1            0  \n",
       "2            0  \n",
       "3            0  \n",
       "4            0  "
      ]
     },
     "execution_count": 26,
     "metadata": {},
     "output_type": "execute_result"
    }
   ],
   "source": [
    "trans_df.head(5)"
   ]
  },
  {
   "cell_type": "code",
   "execution_count": 27,
   "metadata": {},
   "outputs": [],
   "source": [
    "def rolling_comp(df:pd.DataFrame, window:int):\n",
    "   return df.rolling(window).agg({\"amount\":[\"sum\", \"mean\"],\"latitude\":\"sum\"})"
   ]
  },
  {
   "cell_type": "code",
   "execution_count": 28,
   "metadata": {},
   "outputs": [
    {
     "data": {
      "text/html": [
       "<div>\n",
       "<style scoped>\n",
       "    .dataframe tbody tr th:only-of-type {\n",
       "        vertical-align: middle;\n",
       "    }\n",
       "\n",
       "    .dataframe tbody tr th {\n",
       "        vertical-align: top;\n",
       "    }\n",
       "\n",
       "    .dataframe thead tr th {\n",
       "        text-align: left;\n",
       "    }\n",
       "</style>\n",
       "<table border=\"1\" class=\"dataframe\">\n",
       "  <thead>\n",
       "    <tr>\n",
       "      <th></th>\n",
       "      <th colspan=\"2\" halign=\"left\">amount</th>\n",
       "      <th>latitude</th>\n",
       "    </tr>\n",
       "    <tr>\n",
       "      <th></th>\n",
       "      <th>sum</th>\n",
       "      <th>mean</th>\n",
       "      <th>sum</th>\n",
       "    </tr>\n",
       "  </thead>\n",
       "  <tbody>\n",
       "    <tr>\n",
       "      <th>0</th>\n",
       "      <td>NaN</td>\n",
       "      <td>NaN</td>\n",
       "      <td>NaN</td>\n",
       "    </tr>\n",
       "    <tr>\n",
       "      <th>1</th>\n",
       "      <td>NaN</td>\n",
       "      <td>NaN</td>\n",
       "      <td>NaN</td>\n",
       "    </tr>\n",
       "    <tr>\n",
       "      <th>2</th>\n",
       "      <td>170.03</td>\n",
       "      <td>56.676667</td>\n",
       "      <td>113.439940</td>\n",
       "    </tr>\n",
       "    <tr>\n",
       "      <th>3</th>\n",
       "      <td>161.79</td>\n",
       "      <td>53.930000</td>\n",
       "      <td>114.672010</td>\n",
       "    </tr>\n",
       "    <tr>\n",
       "      <th>4</th>\n",
       "      <td>135.56</td>\n",
       "      <td>45.186667</td>\n",
       "      <td>121.394850</td>\n",
       "    </tr>\n",
       "    <tr>\n",
       "      <th>...</th>\n",
       "      <td>...</td>\n",
       "      <td>...</td>\n",
       "      <td>...</td>\n",
       "    </tr>\n",
       "    <tr>\n",
       "      <th>106015</th>\n",
       "      <td>10270.37</td>\n",
       "      <td>3423.456667</td>\n",
       "      <td>125.582735</td>\n",
       "    </tr>\n",
       "    <tr>\n",
       "      <th>106016</th>\n",
       "      <td>9892.75</td>\n",
       "      <td>3297.583333</td>\n",
       "      <td>125.588745</td>\n",
       "    </tr>\n",
       "    <tr>\n",
       "      <th>106017</th>\n",
       "      <td>414.29</td>\n",
       "      <td>138.096667</td>\n",
       "      <td>125.610018</td>\n",
       "    </tr>\n",
       "    <tr>\n",
       "      <th>106018</th>\n",
       "      <td>620.94</td>\n",
       "      <td>206.980000</td>\n",
       "      <td>125.632640</td>\n",
       "    </tr>\n",
       "    <tr>\n",
       "      <th>106019</th>\n",
       "      <td>407.27</td>\n",
       "      <td>135.756667</td>\n",
       "      <td>125.651136</td>\n",
       "    </tr>\n",
       "  </tbody>\n",
       "</table>\n",
       "<p>106020 rows × 3 columns</p>\n",
       "</div>"
      ],
      "text/plain": [
       "          amount                 latitude\n",
       "             sum         mean         sum\n",
       "0            NaN          NaN         NaN\n",
       "1            NaN          NaN         NaN\n",
       "2         170.03    56.676667  113.439940\n",
       "3         161.79    53.930000  114.672010\n",
       "4         135.56    45.186667  121.394850\n",
       "...          ...          ...         ...\n",
       "106015  10270.37  3423.456667  125.582735\n",
       "106016   9892.75  3297.583333  125.588745\n",
       "106017    414.29   138.096667  125.610018\n",
       "106018    620.94   206.980000  125.632640\n",
       "106019    407.27   135.756667  125.651136\n",
       "\n",
       "[106020 rows x 3 columns]"
      ]
     },
     "execution_count": 28,
     "metadata": {},
     "output_type": "execute_result"
    }
   ],
   "source": [
    "rolling_comp(trans_df,3)"
   ]
  },
  {
   "cell_type": "code",
   "execution_count": 30,
   "metadata": {},
   "outputs": [
    {
     "data": {
      "text/plain": [
       "RangeIndex(start=0, stop=106020, step=1)"
      ]
     },
     "execution_count": 30,
     "metadata": {},
     "output_type": "execute_result"
    }
   ],
   "source": [
    "trans_df.index"
   ]
  },
  {
   "cell_type": "code",
   "execution_count": 38,
   "metadata": {},
   "outputs": [],
   "source": [
    "#clean data\n",
    "def clean_data(df):\n",
    "    df = df.dropna()\n",
    "    df = df[~df.duplicated()]\n",
    "    return df"
   ]
  },
  {
   "cell_type": "code",
   "execution_count": 39,
   "metadata": {},
   "outputs": [],
   "source": [
    "def data_ingestion():\n",
    "    url = \"https://repo.hops.works/master/hopsworks-tutorials/data/card_fraud_data\"\n",
    "    credit_cards_df = clean_data(pd.read_parquet(url + \"/credit_cards.parquet\"))\n",
    "    trans_df = clean_data(pd.read_parquet(url + \"/transactions.parquet\"))\n",
    "    profiles_df = clean_data(pd.read_parquet(url + \"/profiles.parquet\"))"
   ]
  },
  {
   "cell_type": "code",
   "execution_count": null,
   "metadata": {},
   "outputs": [],
   "source": []
  },
  {
   "cell_type": "code",
   "execution_count": null,
   "metadata": {},
   "outputs": [],
   "source": []
  }
 ],
 "metadata": {
  "kernelspec": {
   "display_name": "safeswipe",
   "language": "python",
   "name": "python3"
  },
  "language_info": {
   "codemirror_mode": {
    "name": "ipython",
    "version": 3
   },
   "file_extension": ".py",
   "mimetype": "text/x-python",
   "name": "python",
   "nbconvert_exporter": "python",
   "pygments_lexer": "ipython3",
   "version": "3.10.14"
  },
  "orig_nbformat": 4
 },
 "nbformat": 4,
 "nbformat_minor": 2
}
